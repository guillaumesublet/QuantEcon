{
 "cells": [
  {
   "cell_type": "markdown",
   "metadata": {},
   "source": [
    "Object Oriented Programming bundles functions and data together.\n",
    "- Object/Instance is a realisation of the class\n",
    "- Methods are the functions that are attached to the class. In particular, the method init is a method that is called automatically when creating an instance. init sets up a namespace to hold the data of the instance\n",
    "- Attributes are data and methods of a class.\n",
    "\n",
    "Self:\n",
    "- use self. in front of data of an instance\n",
    "- self is the first argument of any method"
   ]
  },
  {
   "cell_type": "code",
   "execution_count": 24,
   "metadata": {
    "collapsed": false
   },
   "outputs": [],
   "source": [
    "from __future__ import division\n",
    "import numpy as np\n",
    "\n",
    "class SolowModel:\n",
    "    '''\n",
    "    Implements the Solow model.\n",
    "    k: initial capital\n",
    "    alpha: exponent on the production function\n",
    "    s: savings rate (exogenous in the Solow model)\n",
    "    z: (1-z) rate of technological progress\n",
    "    d: depreciation rate\n",
    "    n: rate of population growth\n",
    "    '''\n",
    "    def __init__(self, k, alpha, s, z, d, n): \n",
    "        '''\n",
    "        method that is called automatically when creating an instance. \n",
    "        init sets up a namespace to hold the data of the instance\n",
    "        '''\n",
    "        self.alpha, self.s, self.z, self.d, self.n = alpha, s, z, d, n\n",
    "        self.k = k\n",
    "    \n",
    "    def productionsaved(self, k):\n",
    "        '''\n",
    "        fraction s of the production z k^alpha is saved\n",
    "        '''\n",
    "        return self.s * self.z * k**self.alpha\n",
    "    \n",
    "    def productionsavedpercapita(self, k):\n",
    "        '''\n",
    "        investment per capita terms\n",
    "        '''\n",
    "        return self.productionsaved(k) / (1 + self.n) \n",
    "\n",
    "    def newcapital(self, k):\n",
    "        '''\n",
    "        law of motion of capital\n",
    "        '''\n",
    "        return self.productionsavedpercapita(k) + ((1 - self.d) * k / (1 + self.n))\n",
    "    \n",
    "    def timeseriesupdate(self, K):\n",
    "        '''\n",
    "        append next period's capital to the list K.\n",
    "        '''\n",
    "        K.append(self.newcapital(K[-1]))\n",
    "\n",
    "    def steadystate(self):\n",
    "        '''\n",
    "        computes the steady state\n",
    "        '''\n",
    "        return ((self.s * self.z) / (self.n + self.d))**(1 / (1 - self.alpha))\n",
    "        \n",
    "    def timeseries(self, T):\n",
    "        while len(K) < T:\n",
    "            self.timeseriesupdate(K)\n",
    "        return K"
   ]
  },
  {
   "cell_type": "code",
   "execution_count": 25,
   "metadata": {
    "collapsed": false
   },
   "outputs": [
    {
     "data": {
      "text/plain": [
       "[1,\n",
       " 1.0636363636363635,\n",
       " 1.1227085479854737,\n",
       " 1.17739880459409,\n",
       " 1.2279184416571791,\n",
       " 1.2744957955205996,\n",
       " 1.3173673654995548,\n",
       " 1.3567713251117768,\n",
       " 1.3929428281347471,\n",
       " 1.4261106745609338]"
      ]
     },
     "execution_count": 25,
     "metadata": {},
     "output_type": "execute_result"
    }
   ],
   "source": [
    "K=[1]\n",
    "T=10\n",
    "alpha = 0.33 \n",
    "s = 0.2\n",
    "z = 1.1 \n",
    "d = 0.05\n",
    "n = 0.1\n",
    "S1 = SolowModel(K[-1], alpha, s, z, d, n) #S1 is an object or instance of the class SolowModel\n",
    "\n",
    "S1.timeseries(T) # apply the method timeseries to the instance S1."
   ]
  },
  {
   "cell_type": "code",
   "execution_count": 26,
   "metadata": {
    "collapsed": false
   },
   "outputs": [
    {
     "data": {
      "text/plain": [
       "(['__doc__',\n",
       "  '__init__',\n",
       "  '__module__',\n",
       "  'alpha',\n",
       "  'd',\n",
       "  'k',\n",
       "  'n',\n",
       "  'newcapital',\n",
       "  'productionsaved',\n",
       "  'productionsavedpercapita',\n",
       "  's',\n",
       "  'steadystate',\n",
       "  'timeseries',\n",
       "  'timeseriesupdate',\n",
       "  'z'],\n",
       " 'list of attributes')"
      ]
     },
     "execution_count": 26,
     "metadata": {},
     "output_type": "execute_result"
    }
   ],
   "source": [
    "dir(S1), 'list of attributes' # prints all the attributes (attributes are data and mehtods together) of the class that S1 is an instance of."
   ]
  },
  {
   "cell_type": "code",
   "execution_count": 27,
   "metadata": {
    "collapsed": false
   },
   "outputs": [
    {
     "name": "stdout",
     "output_type": "stream",
     "text": [
      "__main__.SolowModel class of S1\n"
     ]
    }
   ],
   "source": [
    "print S1.__class__, 'class of S1'"
   ]
  },
  {
   "cell_type": "code",
   "execution_count": 35,
   "metadata": {
    "collapsed": false
   },
   "outputs": [
    {
     "name": "stdout",
     "output_type": "stream",
     "text": [
      "1.77115207955\n"
     ]
    }
   ],
   "source": [
    "print S1.steadystate()"
   ]
  },
  {
   "cell_type": "code",
   "execution_count": null,
   "metadata": {
    "collapsed": true
   },
   "outputs": [],
   "source": []
  }
 ],
 "metadata": {
  "kernelspec": {
   "display_name": "Python [conda root]",
   "language": "python",
   "name": "conda-root-py"
  },
  "language_info": {
   "codemirror_mode": {
    "name": "ipython",
    "version": 3
   },
   "file_extension": ".py",
   "mimetype": "text/x-python",
   "name": "python",
   "nbconvert_exporter": "python",
   "pygments_lexer": "ipython3",
   "version": "3.5.2"
  }
 },
 "nbformat": 4,
 "nbformat_minor": 0
}
