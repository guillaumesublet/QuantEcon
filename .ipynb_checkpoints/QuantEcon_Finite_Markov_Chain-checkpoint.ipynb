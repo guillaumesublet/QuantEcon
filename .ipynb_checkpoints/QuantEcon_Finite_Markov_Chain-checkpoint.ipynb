{
 "cells": [
  {
   "cell_type": "markdown",
   "metadata": {},
   "source": [
    "# Markov Chains\n",
    "\n",
    "Based on https://python.quantecon.org/finite_markov.html"
   ]
  },
  {
   "cell_type": "markdown",
   "metadata": {},
   "source": [
    "This exercise simulates $100'000$ states from a two state Markov Chain as in the Exercise of QuantEcon Part 1, the need for speed."
   ]
  },
  {
   "cell_type": "markdown",
   "metadata": {},
   "source": [
    "#### Time invariant Markov Chain \n",
    "is defined by a triplet:\n",
    "+ an $n$ dimensional state space of $n$ unit vector $e_i$ whose $i^{th}$ entry is 1 and the other are 0\n",
    "+ a stochastic transition matrix (rows sum to 1 and all entries are positive) $P$ where $P_{ij} = Pr(x_{t+1} = e_j \\lvert x_t = e_i)$\n",
    "+ an intial unconditional distribution of $x_0$, denoted $\\pi_0$ whose $i^{th}$ entry is the probablity that $x_0 = e_i$ "
   ]
  },
  {
   "cell_type": "markdown",
   "metadata": {},
   "source": [
    "#### Unconditional distribution of $x$ \n",
    "is given by \n",
    "\\begin{equation*}\n",
    "\\pi_t =  \\pi_{t-1}' P = \\pi_0' P^t\n",
    "\\end{equation*}"
   ]
  },
  {
   "cell_type": "markdown",
   "metadata": {},
   "source": [
    "#### Stationary distribution of $x$\n",
    "is the unconditional distribution that satisfies : $\\pi_{t+1} = \\pi_{t}$ so it is the eigenvector, normalized to satisfy $\\sum_{i=1}^n \\pi_i = 1$ associated with a unit eigenvalue of the transition matrix $P$:\n",
    "\\begin{equation*}\n",
    "(I - P)' \\pi = 0 \n",
    "\\end{equation*}\n",
    "##### Stationary Markov Chain is $(\\pi, P)$\n",
    "where $\\pi$ is a stationary distribution\n",
    "\n",
    "##### Uniqueness of the stationary distribution\n",
    "Note that the stationary distribution (eigenvector, normalized to satisfy $\\sum_{i=1}^n \\ pi_i = 1$ associated with a unit eigenvalue of the transition matrix $P$) need not be unique. (Example of non-unique stationary distribution with two absorbing states, there is a stationary distribution that starts and stays for each absorbing state).\n",
    "\n",
    "#### Theorem (Uniqueness):\n",
    "Let $P$ be a stchastic matrix for which $P_{ij}^n > 0$ for all $i,j$ for some $n$. Then $P$ has a unique stationary distribution $\\pi_\\infty$ (i.e. satisfies $(I - P)' \\pi_\\infty = 0 $) and the process is asymptotically stationary (i.e. $\\lim_{t \\to \\infty} \\pi_t = \\pi_\\infty$ irrespectively of $\\pi_0$)."
   ]
  },
  {
   "cell_type": "code",
   "execution_count": 1,
   "metadata": {},
   "outputs": [],
   "source": [
    "import quantecon as qe\n",
    "import numpy as np\n",
    "from random import uniform\n",
    "from numba import jit, njit, jitclass, prange, float64, int32\n",
    "from mpl_toolkits.mplot3d import Axes3D\n",
    "import matplotlib.pyplot as plt\n",
    "%matplotlib inline"
   ]
  },
  {
   "cell_type": "code",
   "execution_count": 3,
   "metadata": {},
   "outputs": [],
   "source": [
    "def twostateMarkovChain(p, q, N, s):\n",
    "    \"\"\"\n",
    "    This generates a sample path of size N from a Markov chain M= [[p, 1-p], [q, 1-q]]\n",
    "    with initial state s\n",
    "    \"\"\"\n",
    "    S = np.empty(N)\n",
    "    S[0] = s\n",
    "    for i in range(N-1):\n",
    "        draw = np.random.uniform(0,1)\n",
    "        if s == 0:\n",
    "            if draw <= p:\n",
    "                s = 0\n",
    "            if draw > p:\n",
    "                s = 1\n",
    "        if s == 1:\n",
    "            if draw <= q:\n",
    "                s = 0\n",
    "            if draw > q:\n",
    "                s = 1\n",
    "        S[i+1] = s\n",
    "    return S\n",
    "\n",
    "def MarkovChain(M, T, s):\n",
    "    \"\"\"\n",
    "    Generates a sample path of size T from a Markov Chain M with initial state s\n",
    "    T: length of the vector obtained\n",
    "    M: n by n matrix\n",
    "    s: initial state\n",
    "    \"\"\"\n",
    "    assert T > 1, 'too short a sample path, only the initial state will be reported'\n",
    "    S = np.zeros(T) #collects the sample path\n",
    "    S[0] = s #initial value\n",
    "    (n, n) = M.shape #n denotes the number of rows/columns\n",
    "    for t in range(T-1): \n",
    "        draw = np.random.uniform(0,1)\n",
    "        for state in range(n):\n",
    "            if s == state:\n",
    "                M_s_cdf = np.cumsum(M[s,:]) #CDF for the distribution given s\n",
    "                if draw <= M_s_cdf[0]:\n",
    "                    s = 0\n",
    "                for j in range(n-1):\n",
    "                    if draw <= M_s_cdf[j+1] and draw > M_s_cdf[j]:\n",
    "                        s = j+1\n",
    "        S[t+1] = s\n",
    "    return S\n",
    "\n",
    "def MarkovChainnext(M, s):\n",
    "    \"\"\"\n",
    "    This generates a the next state according to a Markov Chain M with initial state s\n",
    "    M: n by n matrix\n",
    "    s: initial state\n",
    "    \"\"\"\n",
    "    (n, n) = M.shape #n denotes the number of rows/columns\n",
    "    draw = np.random.uniform(0,1)\n",
    "    for state in range(n):\n",
    "        if s == state:\n",
    "            M_s_cdf = np.cumsum(M[s,:]) #CDF for the distribution given s\n",
    "            if draw <= M_s_cdf[0]:\n",
    "                s = 0\n",
    "            for j in range(n-1):\n",
    "                if draw <= M_s_cdf[j+1] and draw > M_s_cdf[j]:\n",
    "                    s = j+1\n",
    "    return s\n",
    "\n",
    "\n",
    "def naverage(n, x):\n",
    "    \"\"\"\n",
    "    Returns the average of the first n elements of vector x\n",
    "    x: vector\n",
    "    n: number of elements included in the average\n",
    "    \"\"\"\n",
    "    assert n <= len(x), 'x does not have enough elements to compute the average of the first n elements'\n",
    "    z = np.zeros(N)\n",
    "    for i in range(n):\n",
    "        z[i] = 1\n",
    "    return np.sum(x * z)/n"
   ]
  },
  {
   "cell_type": "markdown",
   "metadata": {},
   "source": [
    "This compares the two Markov Chains functions defined above"
   ]
  },
  {
   "cell_type": "code",
   "execution_count": 9,
   "metadata": {},
   "outputs": [
    {
     "name": "stdout",
     "output_type": "stream",
     "text": [
      "0.50125 Proportion of time spent in state 1 for twostateMarkovChain\n",
      "0.49724999999999997 Proportion of time spent in state 1 for MarkovChain\n"
     ]
    }
   ],
   "source": [
    "N = 4000\n",
    "p = 0.5\n",
    "q = 0.5\n",
    "s = 1\n",
    "n = 2\n",
    "M = np.empty((n,n))\n",
    "M[0,0] = p\n",
    "M[0,1] = 1-p\n",
    "M[1,0] = q\n",
    "M[1,1] = 1-q\n",
    "\n",
    "\n",
    "S_1 = twostateMarkovChain(p, q, N, s)\n",
    "\n",
    "S_2 = MarkovChain(M, N, s)\n",
    "\n",
    "PropH1 = sum(S_1) / (N)\n",
    "PropH2 = sum(S_2) / (N)\n",
    "\n",
    "print(1 - PropH1, 'Proportion of time spent in state 1 for twostateMarkovChain')\n",
    "print(1 - PropH2, 'Proportion of time spent in state 1 for MarkovChain')"
   ]
  },
  {
   "cell_type": "markdown",
   "metadata": {},
   "source": [
    "The more general Markov Chain generator MarkovChain takes 10 times longer than twostateMarkovChain"
   ]
  },
  {
   "cell_type": "code",
   "execution_count": 10,
   "metadata": {},
   "outputs": [
    {
     "name": "stdout",
     "output_type": "stream",
     "text": [
      "29 ms ± 344 µs per loop (mean ± std. dev. of 7 runs, 10 loops each)\n"
     ]
    }
   ],
   "source": [
    "%timeit MarkovChain(M, N, s)"
   ]
  },
  {
   "cell_type": "code",
   "execution_count": 11,
   "metadata": {},
   "outputs": [
    {
     "name": "stdout",
     "output_type": "stream",
     "text": [
      "8.99 ms ± 28.2 µs per loop (mean ± std. dev. of 7 runs, 100 loops each)\n"
     ]
    }
   ],
   "source": [
    "%timeit twostateMarkovChain(p, q, N, s)"
   ]
  },
  {
   "cell_type": "markdown",
   "metadata": {},
   "source": [
    "Now we implement the Numba-optimized version of the twostateMarkovChain."
   ]
  },
  {
   "cell_type": "code",
   "execution_count": 13,
   "metadata": {
    "collapsed": true
   },
   "outputs": [],
   "source": [
    "import quantecon as qe\n",
    "import numba as nb\n",
    "twostateMarkovChain_Numba = jit(twostateMarkovChain)"
   ]
  },
  {
   "cell_type": "markdown",
   "metadata": {
    "collapsed": true
   },
   "source": [
    "Exercise 1 of QuantEcon Finite Markov Chains: it plots the evolution of the average state up to T."
   ]
  },
  {
   "cell_type": "code",
   "execution_count": 15,
   "metadata": {},
   "outputs": [
    {
     "data": {
      "image/png": "[encoded data removed]",
      "text/plain": [
       "<Figure size 432x288 with 1 Axes>"
      ]
     },
     "metadata": {
      "needs_background": "light"
     },
     "output_type": "display_data"
    },
    {
     "data": {
      "image/png": "[encoded data removed]",
      "text/plain": [
       "<Figure size 432x288 with 1 Axes>"
      ]
     },
     "metadata": {
      "needs_background": "light"
     },
     "output_type": "display_data"
    },
    {
     "name": "stdout",
     "output_type": "stream",
     "text": [
      "0\n"
     ]
    }
   ],
   "source": [
    "import matplotlib.pyplot as plt\n",
    "%matplotlib inline\n",
    "N = 1000\n",
    "p = 0.8\n",
    "q = 0.1\n",
    "s_0 = 0\n",
    "s_1 = 1\n",
    "\n",
    "n = 3 #MarkovChain also works for more than two states Markov Chains.\n",
    "M = np.empty((n,n))\n",
    "M[0,0] = 0.8\n",
    "M[0,1] = 0.1\n",
    "M[0,2] = 0.1\n",
    "M[1,0] = 0.1\n",
    "M[1,1] = 0.8\n",
    "M[1,2] = 0.1\n",
    "M[2,0] = 0.1\n",
    "M[2,1] = 0.1\n",
    "M[2,2] = 0.8\n",
    "\n",
    "\n",
    "ergodic = 0 # q / ((1-p) + q)\n",
    "\n",
    "x_0 = twostateMarkovChain(p, q, N, s_0)\n",
    "x_1 = twostateMarkovChain(p, q, N, s_1)\n",
    "X_0 = MarkovChain(M, N, s_0)\n",
    "X_1 = MarkovChain(M, N, s_1)\n",
    "\n",
    "\n",
    "A_0 = np.empty(N)\n",
    "A_1 = np.empty(N)\n",
    "B_0 = np.empty(N)\n",
    "B_1 = np.empty(N)\n",
    "\n",
    "\n",
    "for i in range(N):\n",
    "    A_0[i] = naverage(i+1, x_0) - ergodic\n",
    "    A_1[i] = naverage(i+1, x_1)- ergodic\n",
    "    B_0[i] = naverage(i+1, X_0) - ergodic\n",
    "    B_1[i] = naverage(i+1, X_1)- ergodic\n",
    "    \n",
    "    \n",
    "#print A_0, 'A_0'\n",
    "#print A_1, 'A_1'\n",
    "\n",
    "fig, ax = plt.subplots()\n",
    "ax.hlines(0, 0, N, lw=2, alpha=0.6)\n",
    "xaxis = np.linspace(0, N-1, N)\n",
    "ax.plot(xaxis, A_0, linewidth=2, alpha=0.6)\n",
    "ax.plot(xaxis, A_1, linewidth=2, alpha=0.6)\n",
    "\n",
    "fig, ax1 = plt.subplots()\n",
    "ax1.hlines(0, 0, N, lw=2, alpha=0.6)\n",
    "ax1.plot(xaxis, B_0, linewidth=2, alpha=0.6)\n",
    "ax1.plot(xaxis, B_1, linewidth=2, alpha=0.6)\n",
    "plt.show()\n",
    "\n",
    "print(ergodic)"
   ]
  },
  {
   "cell_type": "markdown",
   "metadata": {},
   "source": [
    "Exercise 2 of QuantEcon Finite Markov Chains"
   ]
  },
  {
   "cell_type": "code",
   "execution_count": 16,
   "metadata": {
    "collapsed": true
   },
   "outputs": [],
   "source": [
    "import quantecon as qe\n",
    "import re"
   ]
  },
  {
   "cell_type": "code",
   "execution_count": 17,
   "metadata": {},
   "outputs": [
    {
     "name": "stdout",
     "output_type": "stream",
     "text": [
      "Writing web_graph_data.txt\n"
     ]
    }
   ],
   "source": [
    "%%file web_graph_data.txt\n",
    "a -> d;\n",
    "a -> f;\n",
    "b -> j;\n",
    "b -> k;\n",
    "b -> m;\n",
    "c -> c;\n",
    "c -> g;\n",
    "c -> j;\n",
    "c -> m;\n",
    "d -> f;\n",
    "d -> h;\n",
    "d -> k;\n",
    "e -> d;\n",
    "e -> h;\n",
    "e -> l;\n",
    "f -> a;\n",
    "f -> b;\n",
    "f -> j;\n",
    "f -> l;\n",
    "g -> b;\n",
    "g -> j;\n",
    "h -> d;\n",
    "h -> g;\n",
    "h -> l;\n",
    "h -> m;\n",
    "i -> g;\n",
    "i -> h;\n",
    "i -> n;\n",
    "j -> e;\n",
    "j -> i;\n",
    "j -> k;\n",
    "k -> n;\n",
    "l -> m;\n",
    "m -> g;\n",
    "n -> c;\n",
    "n -> j;\n",
    "n -> m;"
   ]
  },
  {
   "cell_type": "code",
   "execution_count": 18,
   "metadata": {
    "collapsed": true
   },
   "outputs": [],
   "source": [
    "f = open('web_graph_data.txt', 'r')\n",
    "edges = f.readlines()\n",
    "f.close()"
   ]
  },
  {
   "cell_type": "code",
   "execution_count": 19,
   "metadata": {},
   "outputs": [
    {
     "name": "stdout",
     "output_type": "stream",
     "text": [
      "Rankings\n",
      " ***\n",
      "g: 0.1607\n",
      "j: 0.1594\n",
      "m: 0.1195\n",
      "n: 0.1088\n",
      "k: 0.09106\n",
      "b: 0.08326\n",
      "e: 0.05312\n",
      "i: 0.05312\n",
      "c: 0.04834\n",
      "h: 0.0456\n",
      "l: 0.03202\n",
      "d: 0.03056\n",
      "f: 0.01164\n",
      "a: 0.002911\n"
     ]
    }
   ],
   "source": [
    "from operator import itemgetter\n",
    "# Create a matrix Q that contains a 1 in entry i,j if there is a link from i to j and zero otherwise.\n",
    "n = 14 # total number of nodes\n",
    "alphabet = 'abcdefghijklmnopqrstuvwxyz'\n",
    "Q = np.zeros((n,n), dtype = int)\n",
    "\n",
    "for edge in edges:\n",
    "    from_node, to_node = re.findall('\\w', edge) #creates a list [from_edge, to_edge]\n",
    "    i , j = alphabet.index(from_node), alphabet.index(to_node)\n",
    "    Q[i,j] = 1\n",
    "\n",
    "# Create the matrix P\n",
    "P = np.zeros((n,n))\n",
    "for i in range(n):\n",
    "    P[i,:] = Q[i,:] / Q[i,:].sum()\n",
    "\n",
    "# Find the stationary distribution of the matrix P\n",
    "r = qe.mc_compute_stationary(P)[0]\n",
    "ranked_pages = {alphabet[i] : r[i] for i in range(n)}\n",
    "# == Print solution, sorted from highest to lowest rank == #\n",
    "print('Rankings\\n ***')\n",
    "for name, rank in sorted(ranked_pages.items(), key=itemgetter(1), reverse=1):\n",
    "    print('{0}: {1:.4}'.format(name, rank))\n"
   ]
  },
  {
   "cell_type": "markdown",
   "metadata": {},
   "source": [
    "Exercise 3 from Quantecon Finite Markov Chain: Tauchen (1986) discrete Markov Chain approximation to an AR(1) process with innovation distributed according to a continuous random variable."
   ]
  },
  {
   "cell_type": "code",
   "execution_count": 20,
   "metadata": {
    "collapsed": true
   },
   "outputs": [],
   "source": [
    "from __future__ import division\n",
    "from scipy.stats import norm\n",
    "import numpy as np\n",
    "\n",
    "\n",
    "def approx_markov(rho, sigma_u, m, n):\n",
    "    \"\"\"\n",
    "    Computes the Markov matrix associated with a discretized version of\n",
    "    the linear Gaussian AR(1) process\n",
    "        y_{t+1} = rho * y_t + u_{t+1}\n",
    "    according to Tauchen's method.  Here {u_t} is an iid Gaussian\n",
    "    process with zero mean.\n",
    "    Parameters\n",
    "    ----------\n",
    "    rho : scalar(float)\n",
    "        The autocorrelation coefficient\n",
    "    sigma_u : scalar(float)\n",
    "        The standard deviation of the random process\n",
    "    m : scalar(int), optional(default=3)\n",
    "        The number of standard deviations to approximate out to\n",
    "    n : scalar(int), optional(default=7)\n",
    "        The number of states to use in the approximation\n",
    "    Returns\n",
    "    -------\n",
    "    x : array_like(float, ndim=1)\n",
    "        The state space of the discretized process\n",
    "    P : array_like(float, ndim=2)\n",
    "        The Markov transition matrix where P[i, j] is the probability\n",
    "        of transitioning from x[i] to x[j]\n",
    "    \"\"\"\n",
    "    sigma_y = np.sqrt(sigma_u**2 / (1 - rho**2))\n",
    "\n",
    "    # Construction of an equally spaced state space\n",
    "    x = np.linspace(-m * sigma_y, m * sigma_y , n)  \n",
    "    \n",
    "    # Construction of the Markov Matrix\n",
    "    F = norm(loc=0, scale=sigma_u)\n",
    "    P = np.zeros((n, n))\n",
    "    s = (x[n-1] - x[0])/(n-1)\n",
    "    for i in range(n):\n",
    "        P[i,0] = F.cdf(x[0] - rho * x[i] + s * 0.5 )\n",
    "        P[i, n-1] = 1 - F.cdf(x[n-1] - rho * x[i] - s * 0.5)\n",
    "        for j in range(1, n-1):\n",
    "            P[i,j] = F.cdf(x[j] - rho * x[i] + s * 0.5) - F.cdf(x[j] - rho * x[i] - s * 0.5)\n",
    "    return x, P"
   ]
  },
  {
   "cell_type": "code",
   "execution_count": 22,
   "metadata": {},
   "outputs": [
    {
     "name": "stdout",
     "output_type": "stream",
     "text": [
      "[-50.25189076 -16.75063025  16.75063025  50.25189076]\n",
      "[[1.00000000e+000 1.77635684e-015 0.00000000e+000 0.00000000e+000]\n",
      " [6.54918639e-018 1.00000000e+000 1.11022302e-016 0.00000000e+000]\n",
      " [8.64648367e-138 1.12630750e-016 1.00000000e+000 0.00000000e+000]\n",
      " [0.00000000e+000 3.54506827e-134 1.73400645e-015 1.00000000e+000]]\n",
      "[1. 1. 1. 1.]\n"
     ]
    }
   ],
   "source": [
    "# Check that the above implementation of Tauchen's (1986) method \n",
    "#actually produces a stochastic matrix P.\n",
    "rho = 0.98\n",
    "n = 4\n",
    "m = 5\n",
    "sigma_u = 2\n",
    "\n",
    "x, P = approx_markov(rho, sigma_u, m, n)\n",
    "\n",
    "print(x)\n",
    "print(P)\n",
    "\n",
    "print(np.dot(P, np.ones(n)))"
   ]
  },
  {
   "cell_type": "markdown",
   "metadata": {},
   "source": [
    "This tests MakovChainnext, which delivers the next state given a state"
   ]
  },
  {
   "cell_type": "code",
   "execution_count": 27,
   "metadata": {},
   "outputs": [
    {
     "name": "stdout",
     "output_type": "stream",
     "text": [
      "2\n"
     ]
    }
   ],
   "source": [
    "n = 3 #MarkovChainnext works for more than two states Markov Chains.\n",
    "M = np.empty((n,n))\n",
    "M[0,0] = 0.8\n",
    "M[0,1] = 0.1\n",
    "M[0,2] = 0.1\n",
    "M[1,0] = 0.1\n",
    "M[1,1] = 0.8\n",
    "M[1,2] = 0.1\n",
    "M[2,0] = 0.1\n",
    "M[2,1] = 0.1\n",
    "M[2,2] = 0.8\n",
    "\n",
    "s = 0\n",
    "\n",
    "sprime = MarkovChainnext(M, s)\n",
    "\n",
    "print(sprime)"
   ]
  },
  {
   "cell_type": "code",
   "execution_count": null,
   "metadata": {
    "collapsed": true
   },
   "outputs": [],
   "source": []
  },
  {
   "cell_type": "code",
   "execution_count": null,
   "metadata": {
    "collapsed": true
   },
   "outputs": [],
   "source": []
  }
 ],
 "metadata": {
  "kernelspec": {
   "display_name": "Python 3",
   "language": "python",
   "name": "python3"
  },
  "language_info": {
   "codemirror_mode": {
    "name": "ipython",
    "version": 3
   },
   "file_extension": ".py",
   "mimetype": "text/x-python",
   "name": "python",
   "nbconvert_exporter": "python",
   "pygments_lexer": "ipython3",
   "version": "3.7.4"
  }
 },
 "nbformat": 4,
 "nbformat_minor": 1
}
