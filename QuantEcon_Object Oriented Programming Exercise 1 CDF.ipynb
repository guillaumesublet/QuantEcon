{
 "cells": [
  {
   "cell_type": "markdown",
   "metadata": {},
   "source": [
    "This is the first exercise of Object Oriented Programming: ECDF"
   ]
  },
  {
   "cell_type": "code",
   "execution_count": 1,
   "metadata": {},
   "outputs": [
    {
     "name": "stdout",
     "output_type": "stream",
     "text": [
      "0.75\n",
      "0.75\n",
      "0.692\n"
     ]
    }
   ],
   "source": [
    "from __future__ import division\n",
    "import numpy as np\n",
    "import matplotlib.pyplot as plt\n",
    "from random import uniform\n",
    "from random import normalvariate\n",
    "%matplotlib inline\n",
    "\n",
    "class ECDF:\n",
    "    \n",
    "    def __init__(self, observations):\n",
    "        self.observations = observations\n",
    "\n",
    "    def indicator(self, z, x):\n",
    "        return z <= x\n",
    "\n",
    "    def sumofindicator(self, obs, x):\n",
    "        return sum(self.indicator(obs[i], x) for i in range(len(obs)))\n",
    "    \n",
    "    def empiricalCDF(self, obs, x):\n",
    "        return self.sumofindicator(obs, x) / (len(obs))\n",
    "    \n",
    "    def __call__(self, x):\n",
    "        return self.empiricalCDF(self.observations, x)\n",
    "    \n",
    "    def plotecdf(self, a, b, fineness):\n",
    "        x_vals = np.linspace(a, b, fineness)\n",
    "        plt.plot(x_vals, [self.empiricalCDF(self.observations, x) for x in x_vals], 'b-', label=\"ECDF\")\n",
    "        plt.show()\n",
    "\n",
    "    \n",
    "# This is an example using the above class.\n",
    "sample1 = [0, 0.1, 0.2, 0.51]\n",
    "sample2 = [normalvariate(0,1) for i in range(500)]\n",
    "x = 0.5\n",
    "F1 = ECDF(sample1)\n",
    "F2 = ECDF(sample2)\n",
    "print F1.empiricalCDF(sample1, x)\n",
    "print F1(x)\n",
    "print F2.empiricalCDF(sample2, x)"
   ]
  },
  {
   "cell_type": "code",
   "execution_count": 2,
   "metadata": {},
   "outputs": [
    {
     "data": {
      "image/png": "[encoded data removed]",
      "text/plain": [
       "<matplotlib.figure.Figure at 0x1027147d0>"
      ]
     },
     "metadata": {},
     "output_type": "display_data"
    }
   ],
   "source": [
    "F2.plotecdf(-3,3, 50)"
   ]
  },
  {
   "cell_type": "code",
   "execution_count": null,
   "metadata": {
    "collapsed": true
   },
   "outputs": [],
   "source": []
  }
 ],
 "metadata": {
  "kernelspec": {
   "display_name": "Python 3",
   "language": "python",
   "name": "python3"
  },
  "language_info": {
   "codemirror_mode": {
    "name": "ipython",
    "version": 3
   },
   "file_extension": ".py",
   "mimetype": "text/x-python",
   "name": "python",
   "nbconvert_exporter": "python",
   "pygments_lexer": "ipython3",
   "version": "3.7.4"
  }
 },
 "nbformat": 4,
 "nbformat_minor": 1
}
