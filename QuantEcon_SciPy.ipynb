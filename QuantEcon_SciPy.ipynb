{
 "cells": [
  {
   "cell_type": "markdown",
   "metadata": {},
   "source": [
    "# SciPi section in QuantEcon. Roots and Fixed points"
   ]
  },
  {
   "cell_type": "markdown",
   "metadata": {},
   "source": [
    "This function implements the root finding bisection alogorithm (split the interval repetitively, narrowing on the root), assuming that $f$ is a real-valued function defined on $[a,b]$ with $f(a) < 0 < f(b)$."
   ]
  },
  {
   "cell_type": "code",
   "execution_count": 2,
   "metadata": {
    "collapsed": true
   },
   "outputs": [],
   "source": [
    "def Bisection(f, a, b, tol):\n",
    "    assert f(a) <= 0 and f(b) >= 0, 'if the continuous function has a root, it is not unique'\n",
    "    \"\"\"\n",
    "    Implements the root finding bisection alogorithm (split the interval repetitively, narrowing on the root),\n",
    "    assuming that f is a real-valued function defined on [a,b] with f(a) < 0 < f(b).\n",
    "    \"\"\"\n",
    "    lower = a\n",
    "    upper = b\n",
    "    half = (upper + lower) * 0.5\n",
    "    \n",
    "    while abs(upper - lower) > tol:\n",
    "        if f(half) > 0:\n",
    "            upper = half\n",
    "        else:\n",
    "            lower = half\n",
    "        half = (upper + lower) * 0.5\n",
    "    \n",
    "    return f(half), half"
   ]
  },
  {
   "cell_type": "markdown",
   "metadata": {},
   "source": [
    "The following is a trial of the Bisection algorithm as coded above."
   ]
  },
  {
   "cell_type": "code",
   "execution_count": 2,
   "metadata": {},
   "outputs": [
    {
     "data": {
      "text/plain": [
       "(0.00012207403779029846, 1.00006103515625)"
      ]
     },
     "execution_count": 2,
     "metadata": {},
     "output_type": "execute_result"
    }
   ],
   "source": [
    "f = lambda x: x**2 - 1\n",
    "\n",
    "Bisection(f, -0.5, 3, 0.001)"
   ]
  },
  {
   "cell_type": "markdown",
   "metadata": {
    "collapsed": true
   },
   "source": [
    "Below we use the Bisection and the Newton-Raphson method from the Scipy package."
   ]
  },
  {
   "cell_type": "code",
   "execution_count": 7,
   "metadata": {},
   "outputs": [
    {
     "name": "stdout",
     "output_type": "stream",
     "text": [
      "(2.1072903912067176e-05, 0.4082984924316406) bisection method from my code\n",
      "0.40829350428 bisection method from Scipy\n",
      "0.408293504279 Newton-Raphson method\n",
      "0.408293504279 Hybrid method not as fast as Newton-Raphson but more stable\n"
     ]
    }
   ],
   "source": [
    "import numpy as np\n",
    "from scipy.optimize import newton\n",
    "from scipy.optimize import bisect\n",
    "from scipy.optimize import brentq\n",
    "\n",
    "g = lambda x: np.sin(4 * (x - 0.25)) + x + x**20 - 1\n",
    "tol = 10e-8\n",
    "\n",
    "print Bisection(g, -0.5, 3, 10e-5), 'bisection method from my code'\n",
    "print bisect(g, 0 ,1), 'bisection method from Scipy'\n",
    "print newton(g, 0.3), 'Newton-Raphson method'\n",
    "print brentq(g, 0, 1), 'Hybrid method not as fast as Newton-Raphson but more stable'"
   ]
  },
  {
   "cell_type": "markdown",
   "metadata": {
    "collapsed": true
   },
   "source": [
    "Now that we have confidence that all three methods give the same answer, for this example, we want to compare the speed of the respective codes."
   ]
  },
  {
   "cell_type": "code",
   "execution_count": 4,
   "metadata": {},
   "outputs": [
    {
     "name": "stdout",
     "output_type": "stream",
     "text": [
      "10000 loops, best of 3: 84.8 µs per loop\n"
     ]
    }
   ],
   "source": [
    "timeit Bisection(g, -0.5, 3, 10e-5)"
   ]
  },
  {
   "cell_type": "code",
   "execution_count": 5,
   "metadata": {},
   "outputs": [
    {
     "name": "stdout",
     "output_type": "stream",
     "text": [
      "10000 loops, best of 3: 158 µs per loop\n"
     ]
    }
   ],
   "source": [
    "timeit bisect(g, 0 ,1)"
   ]
  },
  {
   "cell_type": "code",
   "execution_count": 6,
   "metadata": {},
   "outputs": [
    {
     "name": "stdout",
     "output_type": "stream",
     "text": [
      "10000 loops, best of 3: 37.8 µs per loop\n"
     ]
    }
   ],
   "source": [
    "timeit newton(g, 0.3)"
   ]
  },
  {
   "cell_type": "code",
   "execution_count": 6,
   "metadata": {},
   "outputs": [
    {
     "name": "stdout",
     "output_type": "stream",
     "text": [
      "10000 loops, best of 3: 42.4 µs per loop\n"
     ]
    }
   ],
   "source": [
    "timeit brentq(g, 0, 1)"
   ]
  },
  {
   "cell_type": "markdown",
   "metadata": {},
   "source": [
    "Finding a fixed point is related to finding a root as follows: the fixed point of $f$ is the root of $f(x) - x$."
   ]
  },
  {
   "cell_type": "code",
   "execution_count": 8,
   "metadata": {},
   "outputs": [
    {
     "data": {
      "text/plain": [
       "0.40829350427936706"
      ]
     },
     "execution_count": 8,
     "metadata": {},
     "output_type": "execute_result"
    }
   ],
   "source": [
    "from scipy.optimize import fixed_point\n",
    "\n",
    "f = lambda x: g(x) + x\n",
    "\n",
    "fixed_point(f, 0.4)"
   ]
  },
  {
   "cell_type": "markdown",
   "metadata": {
    "collapsed": true
   },
   "source": [
    "The minimum of a smooth function is a root of the first derivative."
   ]
  },
  {
   "cell_type": "code",
   "execution_count": 4,
   "metadata": {},
   "outputs": [
    {
     "name": "stdout",
     "output_type": "stream",
     "text": [
      "0.234 result using fminbound\n",
      "0.234 result using the bisection method\n"
     ]
    }
   ],
   "source": [
    "from scipy.optimize import fminbound\n",
    "from scipy.optimize import bisect\n",
    "\n",
    "# This finds the minimum of the function on the interval [-1, 2].\n",
    "print fminbound(lambda x: (x-0.234)**2, -1, 2), 'result using fminbound'\n",
    "\n",
    "# This finds a root of the derivative on the inteval [-1, 2].\n",
    "print bisect(lambda x: 2*(x-0.234), -1, 2), 'result using the bisection method'"
   ]
  },
  {
   "cell_type": "markdown",
   "metadata": {
    "collapsed": true
   },
   "source": [
    "## Computing derivatives\n",
    "This video was helpful https://www.youtube.com/watch?v=SFI_l96Oss4"
   ]
  },
  {
   "cell_type": "code",
   "execution_count": 1,
   "metadata": {},
   "outputs": [
    {
     "name": "stdout",
     "output_type": "stream",
     "text": [
      "Analytic derivative: 6*x\n",
      "Numerical derivative: 12.0\n"
     ]
    },
    {
     "data": {
      "text/plain": [
       "[<matplotlib.lines.Line2D at 0x105d5eeb8>]"
      ]
     },
     "execution_count": 1,
     "metadata": {},
     "output_type": "execute_result"
    },
    {
     "data": {
      "image/png": "[encoded data removed]",
      "text/plain": [
       "<matplotlib.figure.Figure at 0x10d9a79b0>"
      ]
     },
     "metadata": {},
     "output_type": "display_data"
    }
   ],
   "source": [
    "'''\n",
    "Note that P must be smooth over the entire real line (i.e. do not truncate P at negative q and allow P to be negative)\n",
    "otherwise the derivative is affected even when evaluated in the interior of the smooth parts of Pprime\n",
    "'''\n",
    "# Analytical approach\n",
    "import sympy as sp\n",
    "x = sp.Symbol('x')\n",
    "print('Analytic derivative:', sp.diff(3*x**2 + 1, x)) \n",
    "\n",
    "# Numerical approach\n",
    "from scipy.misc import derivative\n",
    "def f(x):\n",
    "    return 3*x**2+1\n",
    "print('Numerical derivative:', derivative(f, 2))\n",
    "\n",
    "\n",
    "def f_prime_symbolic(x):\n",
    "    return derivative(f, x)\n",
    "    \n",
    "#plot\n",
    "%matplotlib inline\n",
    "import matplotlib.pyplot as plt\n",
    "import numpy as np\n",
    "\n",
    "y = np.linspace(-3,3)\n",
    "plt.plot(y, f(y))\n",
    "plt.plot(y, f_prime_symbolic(y))"
   ]
  },
  {
   "cell_type": "code",
   "execution_count": null,
   "metadata": {
    "collapsed": true
   },
   "outputs": [],
   "source": []
  }
 ],
 "metadata": {
  "anaconda-cloud": {},
  "kernelspec": {
   "display_name": "Python 3",
   "language": "python",
   "name": "python3"
  },
  "language_info": {
   "codemirror_mode": {
    "name": "ipython",
    "version": 3
   },
   "file_extension": ".py",
   "mimetype": "text/x-python",
   "name": "python",
   "nbconvert_exporter": "python",
   "pygments_lexer": "ipython3",
   "version": "3.6.1"
  }
 },
 "nbformat": 4,
 "nbformat_minor": 1
}
