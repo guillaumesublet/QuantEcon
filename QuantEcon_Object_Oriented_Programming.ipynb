{
 "cells": [
  {
   "cell_type": "markdown",
   "metadata": {},
   "source": [
    "Object Oriented Programming bundles functions and data together.\n",
    "- Object/Instance is a realisation of the class\n",
    "- Methods are the functions that are attached to the class. In particular, the method init is a method that is called automatically when creating an instance. init sets up a namespace to hold the data of the instance\n",
    "- Attributes are data and methods of a class.\n",
    "\n",
    "Self:\n",
    "- use self. in front of data of an instance\n",
    "- self is the first argument of any method"
   ]
  },
  {
   "cell_type": "markdown",
   "metadata": {},
   "source": [
    "### Solow growth model"
   ]
  },
  {
   "cell_type": "code",
   "execution_count": 1,
   "metadata": {
    "collapsed": true
   },
   "outputs": [],
   "source": [
    "from __future__ import division\n",
    "import numpy as np\n",
    "\n",
    "class SolowModel:\n",
    "    '''\n",
    "    Implements the Solow model.\n",
    "    k: initial capital\n",
    "    alpha: exponent on the production function\n",
    "    s: savings rate (exogenous in the Solow model)\n",
    "    z: (1-z) rate of technological progress\n",
    "    d: depreciation rate\n",
    "    n: rate of population growth\n",
    "    '''\n",
    "    def __init__(self, k, alpha, s, z, d, n): \n",
    "        '''\n",
    "        method that is called automatically when creating an instance. \n",
    "        init sets up a namespace to hold the data of the instance\n",
    "        '''\n",
    "        self.alpha, self.s, self.z, self.d, self.n = alpha, s, z, d, n\n",
    "        self.k = k\n",
    "    \n",
    "    def productionsaved(self, k):\n",
    "        '''\n",
    "        fraction s of the production z k^alpha is saved\n",
    "        '''\n",
    "        return self.s * self.z * k**self.alpha\n",
    "    \n",
    "    def productionsavedpercapita(self, k):\n",
    "        '''\n",
    "        investment per capita terms\n",
    "        '''\n",
    "        return self.productionsaved(k) / (1 + self.n) \n",
    "\n",
    "    def newcapital(self, k):\n",
    "        '''\n",
    "        law of motion of capital\n",
    "        '''\n",
    "        return self.productionsavedpercapita(k) + ((1 - self.d) * k / (1 + self.n))\n",
    "    \n",
    "    def timeseriesupdate(self, K):\n",
    "        '''\n",
    "        append next period's capital to the list K.\n",
    "        '''\n",
    "        K.append(self.newcapital(K[-1]))\n",
    "\n",
    "    def steadystate(self):\n",
    "        '''\n",
    "        computes the steady state\n",
    "        '''\n",
    "        return ((self.s * self.z) / (self.n + self.d))**(1 / (1 - self.alpha))\n",
    "        \n",
    "    def timeseries(self, T):\n",
    "        while len(K) < T:\n",
    "            self.timeseriesupdate(K)\n",
    "        return K"
   ]
  },
  {
   "cell_type": "code",
   "execution_count": 2,
   "metadata": {},
   "outputs": [
    {
     "data": {
      "text/plain": [
       "[1,\n",
       " 1.0636363636363635,\n",
       " 1.1227085479854737,\n",
       " 1.17739880459409,\n",
       " 1.2279184416571791,\n",
       " 1.2744957955205996,\n",
       " 1.3173673654995548,\n",
       " 1.3567713251117768,\n",
       " 1.3929428281347471,\n",
       " 1.4261106745609338]"
      ]
     },
     "execution_count": 2,
     "metadata": {},
     "output_type": "execute_result"
    }
   ],
   "source": [
    "K=[1]\n",
    "T=10\n",
    "alpha = 0.33 \n",
    "s = 0.2\n",
    "z = 1.1 \n",
    "d = 0.05\n",
    "n = 0.1\n",
    "S1 = SolowModel(K[-1], alpha, s, z, d, n) #S1 is an object or instance of the class SolowModel\n",
    "\n",
    "S1.timeseries(T) # apply the method timeseries to the instance S1."
   ]
  },
  {
   "cell_type": "code",
   "execution_count": 3,
   "metadata": {},
   "outputs": [
    {
     "data": {
      "text/plain": [
       "(['__class__',\n",
       "  '__delattr__',\n",
       "  '__dict__',\n",
       "  '__dir__',\n",
       "  '__doc__',\n",
       "  '__eq__',\n",
       "  '__format__',\n",
       "  '__ge__',\n",
       "  '__getattribute__',\n",
       "  '__gt__',\n",
       "  '__hash__',\n",
       "  '__init__',\n",
       "  '__init_subclass__',\n",
       "  '__le__',\n",
       "  '__lt__',\n",
       "  '__module__',\n",
       "  '__ne__',\n",
       "  '__new__',\n",
       "  '__reduce__',\n",
       "  '__reduce_ex__',\n",
       "  '__repr__',\n",
       "  '__setattr__',\n",
       "  '__sizeof__',\n",
       "  '__str__',\n",
       "  '__subclasshook__',\n",
       "  '__weakref__',\n",
       "  'alpha',\n",
       "  'd',\n",
       "  'k',\n",
       "  'n',\n",
       "  'newcapital',\n",
       "  'productionsaved',\n",
       "  'productionsavedpercapita',\n",
       "  's',\n",
       "  'steadystate',\n",
       "  'timeseries',\n",
       "  'timeseriesupdate',\n",
       "  'z'],\n",
       " 'list of attributes')"
      ]
     },
     "execution_count": 3,
     "metadata": {},
     "output_type": "execute_result"
    }
   ],
   "source": [
    "dir(S1), 'list of attributes' # prints all the attributes (attributes are data and mehtods together) of the class that S1 is an instance of."
   ]
  },
  {
   "cell_type": "code",
   "execution_count": 6,
   "metadata": {},
   "outputs": [
    {
     "name": "stdout",
     "output_type": "stream",
     "text": [
      "<class '__main__.SolowModel'> class of S1\n"
     ]
    }
   ],
   "source": [
    "print(S1.__class__, 'class of S1')"
   ]
  },
  {
   "cell_type": "code",
   "execution_count": 8,
   "metadata": {},
   "outputs": [
    {
     "name": "stdout",
     "output_type": "stream",
     "text": [
      "1.771152079549355\n"
     ]
    }
   ],
   "source": [
    "print(S1.steadystate())"
   ]
  },
  {
   "cell_type": "markdown",
   "metadata": {
    "collapsed": true
   },
   "source": [
    "### Competitive market: linear demand, linear suppy and per unit tax"
   ]
  },
  {
   "cell_type": "code",
   "execution_count": 13,
   "metadata": {
    "collapsed": true
   },
   "outputs": [],
   "source": [
    "from __future__ import division\n",
    "from scipy.integrate import quad\n",
    "import numpy as np\n",
    "\n",
    "class Market_Linear_Tax:\n",
    "    '''\n",
    "    \n",
    "    '''\n",
    "    def __init__(self, a_d, b_d, a_s, b_s, t):\n",
    "        '''method that is called automatically when creating an instance'''\n",
    "        self.a_d, self.b_d, self.a_s, self.b_s, self.t = a_d, b_d, a_s, b_s, t\n",
    "        if a_s > a_d:\n",
    "            raise ValueError('Insufficient Demand')\n",
    "    \n",
    "    def equilibrium_price(self):\n",
    "        '''returns the equilibrium price'''\n",
    "        # unpack parameters\n",
    "        a_d, b_d, a_s, b_s, t = self.a_d, self.b_d, self.a_s, self.b_s, self.t\n",
    "        return (a_d - a_s + b_s * t)/(b_s + b_d)\n",
    "    \n",
    "    def equilibrium_quantity(self):\n",
    "        # unpack parameters\n",
    "        a_d, b_d, a_s, b_s, t = self.a_d, self.b_d, self.a_s, self.b_s, self.t\n",
    "        return a_d - b_d * self.equilibrium_price()\n",
    "        "
   ]
  },
  {
   "cell_type": "code",
   "execution_count": 12,
   "metadata": {},
   "outputs": [
    {
     "name": "stdout",
     "output_type": "stream",
     "text": [
      "18.5\n",
      "17.0\n",
      "5.75\n",
      "6.5\n"
     ]
    }
   ],
   "source": [
    "# baseline parameters\n",
    "a_d, b_d, a_s, b_s, t = 15, .5, -2, .5, 3\n",
    "\n",
    "\n",
    "M_1 = Market_Linear_Tax(a_d = 15, b_d = 0.5, a_s = -2, b_s = 0.5, t = 3)\n",
    "M_2 = Market_Linear_Tax(a_d = 15, b_d = 0.5, a_s = -2, b_s = 0.5, t = 0)\n",
    "\n",
    "print(M_1.equilibrium_price())\n",
    "print(M_2.equilibrium_price())\n",
    "\n",
    "print(M_1.equilibrium_quantity())\n",
    "print(M_2.equilibrium_quantity())"
   ]
  },
  {
   "cell_type": "code",
   "execution_count": 17,
   "metadata": {},
   "outputs": [
    {
     "name": "stdout",
     "output_type": "stream",
     "text": [
      "18.5 Equilibrium price\n"
     ]
    }
   ],
   "source": [
    "baseline_params = 15, .5, -2, .5, 3\n",
    "\n",
    "M_3 = Market_Linear_Tax(*baseline_params)\n",
    "\n",
    "print(M_3.equilibrium_price(), 'Equilibrium price')"
   ]
  },
  {
   "cell_type": "code",
   "execution_count": null,
   "metadata": {
    "collapsed": true
   },
   "outputs": [],
   "source": []
  }
 ],
 "metadata": {
  "kernelspec": {
   "display_name": "Python 3",
   "language": "python",
   "name": "python3"
  },
  "language_info": {
   "codemirror_mode": {
    "name": "ipython",
    "version": 3
   },
   "file_extension": ".py",
   "mimetype": "text/x-python",
   "name": "python",
   "nbconvert_exporter": "python",
   "pygments_lexer": "ipython3",
   "version": "3.6.1"
  }
 },
 "nbformat": 4,
 "nbformat_minor": 1
}
