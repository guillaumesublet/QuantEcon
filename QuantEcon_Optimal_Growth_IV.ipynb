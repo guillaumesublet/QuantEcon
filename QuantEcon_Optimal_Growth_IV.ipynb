{
 "cells": [
  {
   "cell_type": "markdown",
   "metadata": {},
   "source": [
    "# Optimal Growth IV: The Stochastic Optimal Growth Model\n",
    "\n",
    "## Endogenous grid method\n",
    "\n",
    "Based on the QuantEcon lecture https://python.quantecon.org/egm_policy_iter.html"
   ]
  },
  {
   "cell_type": "code",
   "execution_count": null,
   "metadata": {},
   "outputs": [],
   "source": [
    "!pip install --upgrade quantecon\n",
    "!pip install interpolation"
   ]
  },
  {
   "cell_type": "code",
   "execution_count": 1,
   "metadata": {},
   "outputs": [],
   "source": [
    "import numpy as np\n",
    "import quantecon as qe\n",
    "import matplotlib.pyplot as plt\n",
    "from interpolation import interp\n",
    "#from numba import jit, njit, jitclass, prange, float64, int32\n",
    "from numba import jit, njit, prange, float64, int32\n",
    "from numba.experimental import jitclass\n",
    "from quantecon.optimize.scalar_maximization import brent_max\n",
    "from quantecon.optimize import brentq\n",
    "\n",
    "%matplotlib inline"
   ]
  },
  {
   "cell_type": "markdown",
   "metadata": {},
   "source": [
    "### Neoclassical Growth Model\n",
    "\n",
    "Recursive formulation of the planner problem:\n",
    "\\begin{align*}\n",
    "v(k, \\xi) &= \\max_{c,k} \\left\\{ u(c) + \\beta E[v(k', \\xi')] \\right\\} \\\\\n",
    "    &c + (k' - (1-\\delta) k) = \\xi \\ f(k) \\\\\n",
    "    &\\xi, \\xi' \\sim_{iid} \\phi\n",
    "\\end{align*}\n",
    "\n",
    "Since the shocks are iid, we do not need to keep track of the shock realization; the shock only matters in determining the current value of output. Suppose further that there is full depreciation (that is, $\\delta = 1$). We no longer need to keep track of the capital stock. We can then drop the state variable $\\xi$ and reexpress the problem in terms of output as follows:\n",
    "\\begin{align*}\n",
    "v(y) &= \\max_c \\left\\{ u(c) + \\beta E[v(y')] \\right\\} \\\\\n",
    "    y' &= \\xi \\ f(y - c) \\\\\n",
    "    \\xi &\\sim \\phi\n",
    "\\end{align*}\n",
    "\n",
    "Parametrization of the problem\n",
    "\\begin{align*}\n",
    "\\delta &=1 \\\\\n",
    "u(c) &= \\ln(c) \\\\\n",
    "f(k) &= k^\\alpha \\\\\n",
    "\\phi(\\xi) &= \\exp(\\mu + s \\zeta) \\ \\text{where} \\ \\zeta \\sim N(0,1)\n",
    "\\end{align*}"
   ]
  },
  {
   "cell_type": "markdown",
   "metadata": {},
   "source": [
    "## Exogenous grid method"
   ]
  },
  {
   "cell_type": "markdown",
   "metadata": {},
   "source": [
    "#### Time Iterations: Euler equation method\n",
    "\n",
    "Instead of iterating on the value function, we iteration on the Euler equation. The notes on QuantEcon show the equivalence of these two methods in theory. In practice, however, Euler equation method is can be faster since the approximation of the policy function is easier.\n",
    "\n",
    "For every $y$, the policy function $c = c(y)$ solves the Euler equation:\n",
    "\\begin{equation*}\n",
    "u'(c) = \\beta \\int \\ v'(f(y - c) z) \\ f'(y - c) z \\phi dz\n",
    "\\end{equation*}\n",
    "\n",
    "By the envelope condition:\n",
    "\\begin{equation*}\n",
    "v'(y) = \\beta \\int \\ v'(f(y - c) z) \\ f'(y - c) z \\phi dz = u'(c(y)) = (u' \\circ c)(y)\n",
    "\\end{equation*}\n",
    "\n",
    "Substituting the envelope condition into the Euler equation allows to write the policy as a fixed point of a functional equation:\n",
    "\\begin{equation*}\n",
    "u'(c(y)) = \\beta \\int \\ (u' \\circ c)(f(y - c(y)) z) \\ f'(y - c(y)) z \\phi dz\n",
    "\\end{equation*}\n",
    "\n",
    "##### Mapping from guess $c_\\tau$ to updated guess $c_{\\tau+1}$, that is there is an operator $K$ for which $c_{\\tau + 1} = K(c_\\tau)$ where $K$ is the Coleman-Reffett operator\n",
    "\n",
    "for every $y$, the updated policy is $c_{\\tau+1}(y)$ which solves:\n",
    "\\begin{equation*}\n",
    "u'(c) = \\beta \\int \\ (u' \\circ c_\\tau)(f(y - c) z) \\ f'(y - c) z \\phi dz\n",
    "\\end{equation*}\n",
    "That is, for all $y$:\n",
    "\\begin{equation*}\n",
    "u'(c_{\\tau+1}(y)) = \\beta \\int \\ (u' \\circ c_\\tau)(f(y - c_{\\tau+1}(y)) z) \\ f'(y - c_{\\tau+1}(y)) z \\phi dz\n",
    "\\end{equation*}"
   ]
  },
  {
   "cell_type": "markdown",
   "metadata": {},
   "source": [
    "Note that finding the root in the Time Iteration (Euler equation) is computationally burdensome. The endogenous grid method bypasses the step of finding a root."
   ]
  },
  {
   "cell_type": "markdown",
   "metadata": {},
   "source": [
    "## Endogenous grid method"
   ]
  },
  {
   "cell_type": "markdown",
   "metadata": {},
   "source": [
    "##### Mapping from guess $c_\\tau$ to updated guess $c_{\\tau+1}$, that is there is an operator Endogenous grid \n",
    "It is best to think of a policy as a pair (grid on $y_\\tau, c_\\tau$) where $c_\\tau$ is a vector of consumption associated with each $y_\\tau$ in the grid. Construct a grid for $k$ as follows:\n",
    "\\begin{equation*}\n",
    "k_{\\tau}(y_{\\tau}) = y_\\tau - c_\\tau(y_\\tau)\n",
    "\\end{equation*}\n",
    "\n",
    "For every $y_\\tau$, find the updated policy is $c_{\\tau+1}(y_\\tau)$ which is:\n",
    "\\begin{equation*}\n",
    "c_{\\tau+1}(y_\\tau) = (u')^{-1}(\\beta \\int \\ (u' \\circ c_\\tau)(f(k_\\tau(y_{\\tau})) z) \\ f'(k_\\tau(y_{\\tau})) z \\phi dz)\n",
    "\\end{equation*}\n",
    "Construct a new grid for $y$:\n",
    "\\begin{equation*}\n",
    "y_{\\tau + 1} = k_{\\tau}(y_\\tau) + c_{\\tau + 1}(y_\\tau)\n",
    "\\end{equation*}\n",
    "We can now iterate starting with the pair $(y_{\\tau+1}, c_{\\tau +1})$"
   ]
  },
  {
   "cell_type": "markdown",
   "metadata": {},
   "source": [
    "#### Implementation of the algorithm\n",
    "\n",
    "1. Numba: to use numba JIT which makes the code fast, we specifiy the types of the data\n",
    "2. Build class for the model including \n",
    "    1. a function that updates the policy for a given grid\n",
    "    2. a function that updates the grid for a given pair (grid, policy)\n",
    "3. Iterate on policy function and grid"
   ]
  },
  {
   "cell_type": "code",
   "execution_count": 2,
   "metadata": {},
   "outputs": [],
   "source": [
    "'This is to be able to use JIT from Numba to speed up the code, which will be done with at jitclass before the class'\n",
    "opt_growth_data = [\n",
    "    ('alpha', float64), # power of production function\n",
    "    ('beta', float64), # discount factor\n",
    "    ('mu', float64),          # Shock location parameter\n",
    "    ('s', float64),          # Shock scale parameter\n",
    "    ('grid', float64[:]),    # Grid (array)\n",
    "    ('shocks', float64[:])   # Shock draws (array)\n",
    "]"
   ]
  },
  {
   "cell_type": "code",
   "execution_count": 26,
   "metadata": {},
   "outputs": [],
   "source": [
    "@jitclass(opt_growth_data) #jitclass because we are building a class\n",
    "class QE_OptimalGrowth():\n",
    "    def __init__(self,\n",
    "                alpha = 0.4,\n",
    "                beta= 0.96,\n",
    "                mu = 0,\n",
    "                s = 0.1,\n",
    "                grid_max = 4,\n",
    "                grid_size = 200,\n",
    "                shock_size = 250):\n",
    "        self.alpha, self.beta, self.mu, self.s = alpha, beta, mu, s \n",
    "        self.grid = np.linspace(1e-5, grid_max, grid_size) # set up the grid for the state y\n",
    "        self.shocks = np.exp(mu + s * np.random.randn(shock_size)) # draw some shocks to take expectations\n",
    "    \n",
    "    def f(self, k):\n",
    "        return k**self.alpha\n",
    "    \n",
    "    def f_prime(self, k):\n",
    "        return self.alpha * k**(self.alpha - 1)\n",
    "    \n",
    "    def u(self, c):\n",
    "        return np.log(c)\n",
    "    \n",
    "    def u_prime(self, c):\n",
    "        return 1/c\n",
    "    \n",
    "    def u_prime_inverse(self, c):\n",
    "        return 1/c\n",
    "    \n",
    "    def RHS_Bellman(self, c, y, v_array):\n",
    "        'returns the right hand side for a given choice c and a given state y'\n",
    "        u, f, beta, shocks = self.u, self.f, self.beta, self.shocks\n",
    "        v = lambda x: interp(self.grid, v_array, x)\n",
    "        return u(c) + beta * np.mean(v(f(y-c) * shocks)) #np.mean computes the expectation over shock_size draws\n",
    "\n",
    "    def RHS_ColemanReffett(self, c, y, c_array):\n",
    "        'returns the right hand side for a given choice c and a given state y'\n",
    "        pol = lambda x: interp(self.grid, c_array, x)\n",
    "        return self.u_prime(c) - self.beta * np.mean(self.u_prime(pol(self.f(y - c) * self.shocks)) * self.f_prime(y - c) * self.shocks)\n",
    "    \n",
    "    def RHS_Endogenous_grid(self, grid, c_array):\n",
    "        'returns the updated policy array'\n",
    "        c_new = np.empty_like(c_array)\n",
    "        k = grid - c_array # creates a grid for k\n",
    "        print(k)\n",
    "        assert min(k) >= 0, \"k = grid - c_array in RHS_Endogenous_grid must be nonnegative\"\n",
    "        policy = lambda x: interp(grid, c_array, x) \n",
    "        for i in range(len(c_array)):\n",
    "            c_new[i] = self.u_prime_inverse(self.beta * np.mean(self.u_prime(policy(self.f(k[i]) * self.shocks)) * self.f_prime(k[i]) * self.shocks))\n",
    "        return c_new \n",
    "        \n",
    "    def Update_grid(self, grid, c_array, c_update):\n",
    "        '''\n",
    "        k = grid - c_array\n",
    "        y = k + c_update '''\n",
    "        return grid - c_array + c_update"
   ]
  },
  {
   "cell_type": "markdown",
   "metadata": {},
   "source": [
    "#### Create an instance"
   ]
  },
  {
   "cell_type": "code",
   "execution_count": 27,
   "metadata": {},
   "outputs": [],
   "source": [
    "og = QE_OptimalGrowth(alpha = 0.4,\n",
    "                beta= 0.96,\n",
    "                mu = 0,\n",
    "                s = 0.1,\n",
    "                grid_max = 4,\n",
    "                grid_size = 200,\n",
    "                shock_size = 250)"
   ]
  },
  {
   "cell_type": "markdown",
   "metadata": {},
   "source": [
    "#### Exact solution"
   ]
  },
  {
   "cell_type": "code",
   "execution_count": 10,
   "metadata": {},
   "outputs": [],
   "source": [
    "def Exact_policy(og, y):\n",
    "    \"\"\"\n",
    "    True optimal policy\n",
    "    \"\"\"\n",
    "    return (1 - og.alpha * og.beta) * y\n",
    "\n",
    "def Exact_v(og, y):\n",
    "    \"\"\"\n",
    "    True value function\n",
    "    \"\"\"\n",
    "    c1 = np.log(1 - og.alpha * og.beta) / (1 - og.beta)\n",
    "    c2 = (og.mu + og.alpha * np.log(og.alpha * og.beta)) / (1 - og.alpha)\n",
    "    c3 = 1 / (1 - og.beta)\n",
    "    c4 = 1 / (1 - og.alpha * og.beta)\n",
    "    return c1 + c2 * (c3 - c4) + c4 * np.log(y)"
   ]
  },
  {
   "cell_type": "markdown",
   "metadata": {},
   "source": [
    "### Time Iteration: Endogenous grid method"
   ]
  },
  {
   "cell_type": "code",
   "execution_count": 23,
   "metadata": {},
   "outputs": [],
   "source": [
    "def Endogenous_grid(og,\n",
    "                    c_array, \n",
    "                    tol = 1e-5,\n",
    "                    max_iter = 50,\n",
    "                    verbose = True,\n",
    "                    print_skip = 5):\n",
    "    ''' \n",
    "    og is an instance of the class QE_OptimalGrowth\n",
    "    c_array is our initial guess of policy function\n",
    "    tol is the tolerance below which we claim convergence\n",
    "    '''\n",
    "    i = 0\n",
    "    error = tol + 1\n",
    "    \n",
    "    c_new = c_array # creates a vector of the same size as c_array that will record c' \n",
    "    grid_new = og.grid\n",
    "    \n",
    "    while i < max_iter and error > tol:\n",
    "        c_new_new = og.RHS_Endogenous_grid(grid_new, c_new)\n",
    "        error = np.max(np.abs(c_new_new - c_new))\n",
    "        if verbose and i % print_skip == 0:\n",
    "            print(f\"Error at iteration {i} is {error}.\")\n",
    "        i += 1\n",
    "        grid_new = og.Update_grid(grid_new, c_new, c_new_new)\n",
    "        c_new = c_new_new\n",
    "    \n",
    "    if i == max_iter:\n",
    "        print(\"Failed to converge!\")\n",
    "\n",
    "    if verbose and i < max_iter:\n",
    "        print(f\"\\nConverged in {i} iterations.\")\n",
    "\n",
    "    #return c_new        \n",
    "    return grid_new, c_new        "
   ]
  },
  {
   "cell_type": "code",
   "execution_count": 25,
   "metadata": {},
   "outputs": [
    {
     "name": "stdout",
     "output_type": "stream",
     "text": [
      "Error at iteration 0 is nan.\n",
      "\n",
      "Converged in 1 iterations.\n"
     ]
    },
    {
     "data": {
      "image/png": "[encoded data removed]",
      "text/plain": [
       "<Figure size 720x576 with 1 Axes>"
      ]
     },
     "metadata": {
      "needs_background": "light"
     },
     "output_type": "display_data"
    }
   ],
   "source": [
    "c_array = 3 * og.grid # initial guess\n",
    "\n",
    "[grid, c_star] = Endogenous_grid(og, c_array)\n",
    "\n",
    "fig, ax = plt.subplots(figsize=(10,8))\n",
    "xgrid = grid\n",
    "ax.plot(xgrid, Exact_policy(og, xgrid), 'k--', lw=3, label='exact policy')\n",
    "ax.plot(xgrid, c_star, label='c endogenous grid method')\n",
    "ax.set_title('Exact policy and policy from Endogenous grid method') \n",
    "ax.set_xlabel('y', fontsize=16)\n",
    "ax.set_ylabel('v', fontsize=16)\n",
    "ax.legend(loc='upper left')\n",
    "plt.show()"
   ]
  },
  {
   "cell_type": "code",
   "execution_count": 16,
   "metadata": {},
   "outputs": [
    {
     "data": {
      "image/png": "[encoded data removed]",
      "text/plain": [
       "<Figure size 720x576 with 1 Axes>"
      ]
     },
     "metadata": {
      "needs_background": "light"
     },
     "output_type": "display_data"
    }
   ],
   "source": [
    "og = QE_OptimalGrowth(alpha = 0.4,\n",
    "                beta= 0.96,\n",
    "                mu = 0,\n",
    "                s = 0.1,\n",
    "                grid_max = 7,\n",
    "                grid_size = 200,\n",
    "                shock_size = 250)\n",
    "\n",
    "fig, ax = plt.subplots(figsize=(10,8))\n",
    "xgrid = og.grid\n",
    "ax.plot(xgrid, Exact_policy(og, xgrid), 'k--', lw =4 , label='c')\n",
    "c_new = 3 * og.grid\n",
    "grid_new= og.grid\n",
    "num_iter = 5\n",
    "for i in range(num_iter):\n",
    "    c_new_new = og.RHS_Endogenous_grid(grid_new, c_new)\n",
    "    grid_new = og.Update_grid(grid_new, c_new, c_new_new)\n",
    "    c_new = c_new_new\n",
    "    ax.plot(grid_new, c_new, color=plt.cm.jet(i / num_iter), lw=2, alpha=0.6, label='policy iteration %s' %i)\n",
    "ax.set_title('Itération temps converge vers la solution') \n",
    "ax.set_xlabel('y', fontsize=16)\n",
    "ax.set_ylabel('c', fontsize=16)\n",
    "ax.legend(loc='upper left')\n",
    "save_results_to = '/Users/guillaumesublet/Dropbox/Economics/Teaching/Montreal/ECN_7055/I_Marches_complets/Cours2_Methodes_Numeriques/'\n",
    "plt.savefig(save_results_to + 'ECN7055_EndogenousGrid.pdf', dpi = 300)\n",
    "plt.show()"
   ]
  },
  {
   "cell_type": "markdown",
   "metadata": {},
   "source": [
    "### Running time of functions"
   ]
  },
  {
   "cell_type": "code",
   "execution_count": 17,
   "metadata": {},
   "outputs": [
    {
     "name": "stdout",
     "output_type": "stream",
     "text": [
      "2.33 ms ± 44.6 µs per loop (mean ± std. dev. of 7 runs, 100 loops each)\n",
      "14.1 µs ± 212 ns per loop (mean ± std. dev. of 7 runs, 100000 loops each)\n",
      "14.4 µs ± 135 ns per loop (mean ± std. dev. of 7 runs, 100000 loops each)\n"
     ]
    }
   ],
   "source": [
    "og = QE_OptimalGrowth(alpha = 0.4,\n",
    "                beta= 0.96,\n",
    "                mu = 0,\n",
    "                s = 0.1,\n",
    "                grid_max = 7,\n",
    "                grid_size = 200,\n",
    "                shock_size = 250)\n",
    "\n",
    "c_array = 3 * og.grid\n",
    "v = 3 * np.log(og.grid)\n",
    "c= 0.05\n",
    "y = 1\n",
    "\n",
    "%timeit og.RHS_Endogenous_grid(og.grid, c_array)\n",
    "%timeit og.RHS_Bellman(c, y, v)\n",
    "%timeit og.RHS_ColemanReffett(c, y, c_array)"
   ]
  },
  {
   "cell_type": "code",
   "execution_count": null,
   "metadata": {},
   "outputs": [],
   "source": []
  }
 ],
 "metadata": {
  "kernelspec": {
   "display_name": "Python 3",
   "language": "python",
   "name": "python3"
  },
  "language_info": {
   "codemirror_mode": {
    "name": "ipython",
    "version": 3
   },
   "file_extension": ".py",
   "mimetype": "text/x-python",
   "name": "python",
   "nbconvert_exporter": "python",
   "pygments_lexer": "ipython3",
   "version": "3.7.4"
  }
 },
 "nbformat": 4,
 "nbformat_minor": 2
}
