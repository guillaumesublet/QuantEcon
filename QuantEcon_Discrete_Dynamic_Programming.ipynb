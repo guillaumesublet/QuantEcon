{
 "cells": [
  {
   "cell_type": "markdown",
   "metadata": {},
   "source": [
    "Monday December 14 2015, QuantEcon Discrete Dynamic Programming"
   ]
  },
  {
   "cell_type": "markdown",
   "metadata": {},
   "source": [
    "### Dynamic programming problem\n",
    "Consider the following dynamic programming problem stated in recursive form with the following Functional Equation:\n",
    "\\begin{equation}\n",
    "v(s) = \\max_{a \\in F(s)} u(s, a) + \\beta \\int v(s') Q(s'; s, a) \\text{d}s'\n",
    "\\end{equation}\n",
    "where $F(s)$ denotes the feasible choices of $a$ when the state is $s$. Note that the transition probabilities depend both on the current state and the action.\n",
    "\n",
    "#### Notation and expectations\n",
    "Denote by $\\sigma$ a policy function. Denote the Markov Chain induced by policy $\\sigma$ by $Q_{\\sigma}(s',s) \\equiv Q(s'; s, \\sigma(s))$ and, analogously, $u_\\sigma(s) \\equiv u(s, \\sigma(s))$.\n",
    "\n",
    "The expected time $T$ payoff from a policy function $\\sigma$ is starting from state $s_0$ is the $s_0$ entry of the vector obtained from applying the stochastic matrix (whose rows sum to $1$) to the vector $r$:\n",
    "\\begin{equation*}\n",
    "E_0 \\ \\left[ \\beta^T u(s, \\sigma(s)) \\lvert \\ s_0 \\right] = \\beta^T Q^T_\\sigma u_\\sigma[s_0].\n",
    "\\end{equation*}\n",
    "\n",
    "#### Principle of optimality\n",
    "Denote by $v_\\sigma$ the expected value from using policy function $\\sigma$. The $s_0$ entry of the vector $v_\\sigma$ reads:\n",
    "\\begin{equation*}\n",
    "v_\\sigma(s_0) = E_0 \\ \\left[ \\sum_{t=0}^\\infty \\beta^t u(s_t, \\sigma(s_t)) \\ \\bigg\\lvert \\ s_0 \\right] = \\sum_{t=0}^\\infty \\beta^t Q^t_\\sigma u_\\sigma[s_0].\n",
    "\\end{equation*}\n",
    "Denote by $v^*$ the value function at the optimum and the optimal policy function $\\sigma^*$:\n",
    "\\begin{align*}\n",
    "v^*(s) \\equiv & \\max_{\\sigma} \\left\\{v_\\sigma(s)\\ \\lvert \\ \\sigma(\\tilde{s}) \\in F(\\tilde{s}) \\quad \\forall \\tilde{s} \\right\\} \\\\\n",
    "\\sigma^*(s) \\equiv & \\ \\arg\\max_{\\sigma} \\left\\{v_\\sigma(s)\\ \\lvert \\ \\sigma(\\tilde{s}) \\in F(\\tilde{s}) \\quad \\forall \\tilde{s} \\right\\}. \n",
    "\\end{align*}\n",
    "\n",
    "The principle of optimality states conditions such that $v^* = v$ where $v$ solves the functional equation and $\\sigma^*(s)$ is $v-$greedy in the sense that $\\sigma^*(s) = \\ \\arg\\max_{a \\in F(s)} u(s, a) + \\beta \\int v(s') Q(s'; s, a) \\text{d}s'$."
   ]
  },
  {
   "cell_type": "markdown",
   "metadata": {},
   "source": [
    "### Computational algorithm\n",
    "Parameters:\n",
    "- $N_z, z_{min}, z_{max}$: number of shocks, minimum shock, maximum shock\n",
    "- $N_s, s_{min}, s_{max}$: number of states, minimum state, maximum state\n",
    "- $N_a, a_{min}, a_{max}$: number of actions, minimum action, maximum action\n",
    "- $\\beta$: discount factor\n",
    "- $u$: an $N_z \\times N_s \\times N_a$ matrix of benefit for shock $z$, state $s$ and action $a$. (It can also be a function evaluated on the grid.)\n",
    "- $Q(a)$: an $N_z \\times N_z$ stochastic matrix whose rows sum to $1$; one for each $a$ if action affects the Markov Chain.\n",
    "\n",
    "Note that $F(s)$ can be encoded in the definition of $u$ whereby $u(s,a) = -np.inf$ if $a \\notin F(s)$.\n",
    "\n",
    "#### Value function iteration\n",
    "Compute $v_{t+1}$:\n",
    "\\begin{equation*}\n",
    "v_{t+1}(z, s) = \\max_{a \\in F(z, s)} u(a, z, s) + \\beta \\sum_{z'} v_t(z', s'(a, z, s)) Q(z'; z).\n",
    "\\end{equation*}\n",
    "where $z$ denote the shock and $s$ denote the state variable, either by interpolation or by comparison of evaluations on a grid until\n",
    "\\begin{equation*}\n",
    "\\lvert \\lvert v_{t+1} - v_t \\lvert \\lvert \\leq tol \\frac{1-\\beta}{2 \\beta}\n",
    "\\end{equation*}.\n"
   ]
  },
  {
   "cell_type": "markdown",
   "metadata": {},
   "source": [
    "### TO DO:\n",
    "- write a discrete dynamic programming algorithm for:\n",
    "Growth model with CRRA and uniformly distributed income shocks\n",
    "    - compute the dynamic of the state $Q_{\\sigma^*}$ when the agent follows the optimal policy $\\sigma^*$\n",
    "\n",
    "- write a discrete dynamic programming algorithm for:\n",
    "with iid and with Markov shocks\n",
    " - value function iteration\n",
    " - policy function iteration\n",
    " - modified policy function iteration\n",
    "\n",
    "- Check again the log Growth model without risk\n",
    "\n",
    "- compare time of execution\n",
    "\n",
    "- Solve REE\n",
    "- Solve Huggett\n",
    "- Solve Aiyagari\n",
    "- Solve dynamics of Angeletos"
   ]
  },
  {
   "cell_type": "code",
   "execution_count": 50,
   "metadata": {},
   "outputs": [],
   "source": [
    "from __future__ import division\n",
    "import matplotlib.pyplot as plt\n",
    "%matplotlib inline\n",
    "import numpy as np\n",
    "from numpy import log\n",
    "from scipy.optimize import fminbound\n",
    "from scipy import interpolate\n",
    "from scipy import interp\n",
    "\n",
    "def ValueFunctionIterator_income_risk(v, u, beta, f, delta, n, k):\n",
    "    \"\"\"\n",
    "    Bellman_consumption_saving operator for a consumption-saving problem\n",
    "    Note that this operator does not interpolate, it maximizes on a grid.\n",
    "    v is the initial guess of value function\n",
    "    u is the utility function of the consumer\n",
    "    beta is the discount factor\n",
    "    f is the production function\n",
    "    delta is the depreciation rate\n",
    "    n is the size of the grid\n",
    "    k is the grid of possible levels of capital\n",
    "    \"\"\"\n",
    "    C = np.tile(f(k), (1, n)) - np.tile(k.T, (n, 1)) + (1 - delta) * np.tile(k, (1, n)) # Possible consumption levels\n",
    "    C[C< 1e-6] = 1e-6 # To satisfy the constraint that consumption has to be positive.\n",
    "    U = u(C) # Utility levels\n",
    "    U[C< 1e-9] = -np.infty #to address the fact that the utility is bounded below\n",
    "    VP = U + beta * np.tile(v, (n, 1))\n",
    "    vprime = np.nanmax(VP, axis = 1)\n",
    "    return vprime\n",
    "\n",
    "def value_function_iteration(max_iter, tol, v, u, beta, f, delta, n, k):\n",
    "    dist = tol + 1\n",
    "    for it in range(max_iter):\n",
    "        vprime = ValueFunctionIterator_consumption_investment(v, u, beta, f, delta, n, k)\n",
    "        dist = np.max(np.absolute(v - vprime)) #supremum norm of the difference between two subsequent value functions\n",
    "        v = vprime #update the guess\n",
    "        if dist < tol:\n",
    "            print it, '= number of iterations'\n",
    "            return vprime\n",
    "            break\n",
    "    else:\n",
    "        print 'not converged'        \n",
    "        return vprime"
   ]
  },
  {
   "cell_type": "code",
   "execution_count": null,
   "metadata": {
    "collapsed": true
   },
   "outputs": [],
   "source": []
  },
  {
   "cell_type": "code",
   "execution_count": 56,
   "metadata": {},
   "outputs": [
    {
     "name": "stdout",
     "output_type": "stream",
     "text": [
      "485 = number of iterations\n"
     ]
    },
    {
     "data": {
      "text/plain": [
       "(9.9999999999999995e-07, 3.0)"
      ]
     },
     "execution_count": 56,
     "metadata": {},
     "output_type": "execute_result"
    },
    {
     "data": {
      "image/png": "[encoded data removed]",
      "text/plain": [
       "<matplotlib.figure.Figure at 0x105fbcb90>"
      ]
     },
     "metadata": {},
     "output_type": "display_data"
    }
   ],
   "source": [
    "#Parameters\n",
    "tol = 1e-10 #Tolerance level below which convergence is considered done\n",
    "max_iter = 560 #Maximum number of iterations\n",
    "n = 100 #number of grid points\n",
    "grid_min = 1e-6 #grid_min, grid_max : minimum and maximum points of the grid\n",
    "grid_max = 3\n",
    "alpha = 0.65 #Coefficient of the Cobb-Douglas production technology\n",
    "theta = 1 #Total Factor Productivity\n",
    "beta = 0.95 #Patience parameter\n",
    "delta = 1 #Depreciation rate\n",
    "# Grid\n",
    "k = np.linspace(grid_min, grid_max, n)\n",
    "k.shape = (n, 1)\n",
    "\n",
    "\n",
    "# Production technology\n",
    "def f(x):\n",
    "    return theta * x**(alpha)\n",
    "# Utility function\n",
    "def u(x):\n",
    "    return log(x)\n",
    "\n",
    "\"\"\"\n",
    "Exact solution for the case with\n",
    "    - full depreciation delta = 1,\n",
    "    - log utility, \n",
    "    - Cobb-Douglas utility: theta = 1 and f(x)=theta*x**alpha\n",
    "\"\"\"\n",
    "c_1 = log(1 - alpha * beta)/(1 - beta) + log(alpha * beta) * alpha * beta / ((1 - alpha * beta) * (1 - beta))\n",
    "c_2 = alpha / (1 - alpha * beta)\n",
    "def v_star(k):\n",
    "    return c_1 + c_2 * log(k)\n",
    "vstar = np.array(v_star(k))\n",
    "def policy_star(k):\n",
    "    return (1- alpha * beta) * k**alpha\n",
    "consumptionstar = np.array(policy_star(k))\n",
    "\n",
    "\"\"\" \n",
    "Value Function Iteration\n",
    "\"\"\"\n",
    "init_v = np.linspace(0,100,n) # Initial guess of value function\n",
    "init_v.shape = (1, n)\n",
    "v = value_function_iteration(max_iter, tol, init_v, u, beta, f, delta, n, k)\n",
    "\n",
    "fig, ax0 = plt.subplots()\n",
    "ax0.plot(k, v, 'b-', linewidth=1.3, label='limit point of VFI', alpha=0.7)\n",
    "ax0.plot(k, vstar, 'r--', linewidth=0.9, label='exact solution', alpha=0.9)\n",
    "ax0.legend(loc='center right')\n",
    "ax0.set_title('Consumption-Saving Problem: value function')\n",
    "#ax0.set_ylim(-60, -30)\n",
    "ax0.set_xlim(np.min(k), np.max(k))"
   ]
  }
 ],
 "metadata": {
  "kernelspec": {
   "display_name": "Python 3",
   "language": "python",
   "name": "python3"
  },
  "language_info": {
   "codemirror_mode": {
    "name": "ipython",
    "version": 3
   },
   "file_extension": ".py",
   "mimetype": "text/x-python",
   "name": "python",
   "nbconvert_exporter": "python",
   "pygments_lexer": "ipython3",
   "version": "3.6.1"
  }
 },
 "nbformat": 4,
 "nbformat_minor": 1
}
